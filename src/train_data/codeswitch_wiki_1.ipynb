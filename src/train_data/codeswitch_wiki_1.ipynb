{
 "cells": [
  {
   "cell_type": "code",
   "execution_count": 6,
   "id": "56b48b71-0676-4d02-ad53-fddd15248997",
   "metadata": {},
   "outputs": [],
   "source": [
    "import pandas as pd\n",
    "import glob \n",
    "\n",
    "\n",
    "import nltk\n",
    "from nltk.corpus import stopwords    \n",
    "from tqdm.notebook import tqdm\n",
    "\n",
    "import random \n",
    "import xml.etree.ElementTree as ET\n",
    "import os\n",
    "import glob\n",
    "import random\n",
    "\n",
    "from collections import Counter\n",
    "\n",
    "from nltk import ngrams \n",
    "from nltk.util import everygrams\n",
    "\n",
    "import nltk\n",
    "\n",
    "import json\n",
    "\n",
    "from tqdm import tqdm"
   ]
  },
  {
   "cell_type": "code",
   "execution_count": 11,
   "id": "7914848b-6d30-4f7f-a253-da3ca79ca269",
   "metadata": {},
   "outputs": [],
   "source": [
    "stp_wrds = stopwords.words('english')  "
   ]
  },
  {
   "cell_type": "markdown",
   "id": "251cd092-b80b-441d-944b-48f0d8b8cbcc",
   "metadata": {},
   "source": [
    "# 1. Download dictionaries\n",
    "\n",
    "* download dictionaries from [linguatools(https://linguatools.org/tools/corpora/wikipedia-parallel-titles-corpora/)\n",
    "* unzip and rename files for easier use"
   ]
  },
  {
   "cell_type": "code",
   "execution_count": null,
   "id": "7aa0a420-2b2e-4de7-8827-777e8645aee4",
   "metadata": {},
   "outputs": [],
   "source": [
    "!wget https://www.dropbox.com/s/gqirltluna8z76r/wikititles-2014_deen.xml.gz \n",
    "!wget https://www.dropbox.com/s/5vns1b698wzf4v8/wikititles-2014_enit.xml.gz\n",
    "!wget https://www.dropbox.com/s/58swse04brrnt9h/wikititles-2014_aren.xml.gz\n",
    "!wget https://www.dropbox.com/s/jqeiybu797zj434/wikititles-2014_enru.xml.gz\n",
    "!wget https://www.dropbox.com/s/1fkx4y98155b7bp/wikititles-2014_ennl.xml.gz\n",
    "\n",
    "!mv wikititles-2014_aren.xml.gz wikititles-2014_enar.xml.gz\n",
    "!mv wikititles-2014_deen.xml.gz wikititles-2014_ende.xml.gz\n",
    "\n",
    "for  target_lang in ['de', 'ar', 'it', 'ru', 'nl']:\n",
    "    !gzip -d wikititles-2014_{source_lang}{target_lang}.xml.gz\n",
    "    !rm wikititles-2014_{source_lang}{target_lang}.xml.gz"
   ]
  },
  {
   "cell_type": "markdown",
   "id": "858a0640-ebcc-4cff-883f-369344a89c74",
   "metadata": {},
   "source": [
    "# 2. Process dictionaries \n",
    "* convert from XML to {word_{en} : word_{tgt}} format\n",
    "* store in [feather](https://github.com/wesm/feather) files"
   ]
  },
  {
   "cell_type": "code",
   "execution_count": null,
   "id": "ea1d9c76-7d12-4768-a67c-305f82828802",
   "metadata": {},
   "outputs": [],
   "source": [
    "def clean(text):\n",
    "    x = text.lower()\n",
    "    if ':' in x:\n",
    "        x = x.split(':')[1].strip()\n",
    "    if '(' in x:\n",
    "        x = x.split('(')[0].strip()\n",
    "    return x.strip()\n",
    "\n",
    "def get_cs_dict(target_lang):\n",
    "    tree = ET.parse(f'wikititles-2014_en{target_lang}.xml')\n",
    "    root = tree.getroot()\n",
    "\n",
    "    records = []\n",
    "\n",
    "\n",
    "    for child in root:\n",
    "        record = ['','']\n",
    "        for grandchild in child:\n",
    "            if grandchild.tag == 'entry':\n",
    "                if grandchild.attrib['lang'] == target_lang:\n",
    "                    record[1] = grandchild.text\n",
    "                if grandchild.attrib['lang'] == 'en':\n",
    "                    record[0] = grandchild.text\n",
    "        records.append(record)\n",
    "\n",
    "    cs_df = pd.DataFrame(records, columns = ['en',target_lang])\n",
    "\n",
    "    cs_df[target_lang] = cs_df[target_lang].apply(clean)\n",
    "    cs_df[target_lang] = cs_df[target_lang].str.lower()\n",
    "    cs_df['en'] = cs_df['en'].str.lower()\n",
    "    cs_df.to_feather(target_lang)\n",
    "    \n",
    "# for  target_lang in ['de', 'ar', 'it', 'ru', 'nl']:\n",
    "#     get_cs_dict(target_lang)"
   ]
  },
  {
   "cell_type": "markdown",
   "id": "eebbbb81-003a-4dde-8892-91f94c143dd3",
   "metadata": {},
   "source": [
    "# 3. Code-switching\n",
    "* Input: text, target dictionary\n",
    "* Output: code-switched text, list of replaced entities "
   ]
  },
  {
   "cell_type": "code",
   "execution_count": 2,
   "id": "84663bfd-4038-4ef5-8d44-78938b180a21",
   "metadata": {},
   "outputs": [],
   "source": [
    "def code_switch(text, cs_dict):\n",
    "    text = text.lower()\n",
    "    \n",
    "    tokens = text.split()\n",
    "    entities = {}\n",
    "    \n",
    "    tokens = list(everygrams(tokens, max_len=3))\n",
    "    tokens = [' '.join(token) for token in tokens]\n",
    "    tokens = [token for token in tokens if token not in stp_wrds]\n",
    "    tokens = sorted(tokens, key=len)[::-1]\n",
    "    tokens = [token for token in tokens if token in cs_dict]\n",
    "    \n",
    "    for token in tokens:\n",
    "        entity = cs_dict[token]\n",
    "        text1 = text.replace(token, entity)\n",
    "        if text1 != text:\n",
    "            entities[token] = entity\n",
    "        text = text1\n",
    "        \n",
    "    # print(entities)\n",
    "        \n",
    "    return text, entities"
   ]
  },
  {
   "cell_type": "markdown",
   "id": "fc0bacf4-6f56-41f0-9f96-d38222bd9a93",
   "metadata": {},
   "source": [
    "# 4. Example"
   ]
  },
  {
   "cell_type": "code",
   "execution_count": 7,
   "id": "9d0ab544-5821-4d86-9984-cd9881044622",
   "metadata": {},
   "outputs": [],
   "source": [
    "source_lang = 'en'\n",
    "target_lang = 'de'"
   ]
  },
  {
   "cell_type": "code",
   "execution_count": 8,
   "id": "5a748e55-d074-46ae-b497-0832c559c68a",
   "metadata": {},
   "outputs": [
    {
     "name": "stdout",
     "output_type": "stream",
     "text": [
      "target language is de\n",
      "reading dict...\n",
      "dict is read...\n",
      "converting dict...\n"
     ]
    }
   ],
   "source": [
    "print('target language is', target_lang)\n",
    "print('reading dict...')\n",
    "cs_df = pd.read_feather(target_lang)\n",
    "print('dict is read...')\n",
    "print('converting dict...')\n",
    "cs_dict = dict(zip(cs_df[source_lang],cs_df[target_lang]))"
   ]
  },
  {
   "cell_type": "code",
   "execution_count": null,
   "id": "934da5f9-f57f-460c-ab11-d81c64aaf167",
   "metadata": {
    "pycharm": {
     "is_executing": true
    }
   },
   "outputs": [],
   "source": [
    "s = 'What is an affinity credit card program?'\n",
    "cs_s = code_switch(s, cs_dict)\n",
    "print('before:', s)\n",
    "print('after:', s)"
   ]
  }
 ],
 "metadata": {
  "kernelspec": {
   "display_name": "Python [conda env:.conda-banana] *",
   "language": "python",
   "name": "conda-env-.conda-banana-py"
  },
  "language_info": {
   "codemirror_mode": {
    "name": "ipython",
    "version": 3
   },
   "file_extension": ".py",
   "mimetype": "text/x-python",
   "name": "python",
   "nbconvert_exporter": "python",
   "pygments_lexer": "ipython3",
   "version": "3.10.6"
  }
 },
 "nbformat": 4,
 "nbformat_minor": 5
}
